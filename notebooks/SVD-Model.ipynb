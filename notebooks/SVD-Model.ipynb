{
 "cells": [
  {
   "cell_type": "code",
   "id": "initial_id",
   "metadata": {
    "collapsed": true,
    "ExecuteTime": {
     "end_time": "2025-04-17T17:28:31.590025Z",
     "start_time": "2025-04-17T17:28:29.463679Z"
    }
   },
   "source": [
    "from google.cloud import bigquery\n",
    "from surprise import Dataset, Reader\n",
    "from surprise import SVD\n",
    "from surprise.model_selection import train_test_split"
   ],
   "outputs": [],
   "execution_count": 1
  },
  {
   "metadata": {
    "ExecuteTime": {
     "end_time": "2025-04-17T17:28:50.627339Z",
     "start_time": "2025-04-17T17:28:49.391263Z"
    }
   },
   "cell_type": "code",
   "source": "client = bigquery.Client(project=\"virtualization-and-cloud\")",
   "id": "f23983d9e386ece8",
   "outputs": [],
   "execution_count": 2
  },
  {
   "metadata": {
    "ExecuteTime": {
     "end_time": "2025-04-17T17:29:43.083657Z",
     "start_time": "2025-04-17T17:28:53.696623Z"
    }
   },
   "cell_type": "code",
   "source": [
    "query = \"\"\"\n",
    "SELECT userId, movieId, rating\n",
    "FROM `virtualization-and-cloud.movies.ratings`\n",
    "\"\"\"\n",
    "ratings_df = client.query(query).to_dataframe()"
   ],
   "id": "74c6a3e48dad1a38",
   "outputs": [],
   "execution_count": 3
  },
  {
   "metadata": {
    "ExecuteTime": {
     "end_time": "2025-04-17T17:31:20.699524Z",
     "start_time": "2025-04-17T17:31:20.687720Z"
    }
   },
   "cell_type": "code",
   "source": "reader = Reader(rating_scale=(0.1, 5.0))",
   "id": "639b13ef921eb0ff",
   "outputs": [],
   "execution_count": 10
  },
  {
   "metadata": {
    "ExecuteTime": {
     "end_time": "2025-04-17T17:31:59.337611Z",
     "start_time": "2025-04-17T17:31:22.833817Z"
    }
   },
   "cell_type": "code",
   "source": "data = Dataset.load_from_df(ratings_df[['userId', 'movieId', 'rating']], reader)",
   "id": "eb9b7622be66ac02",
   "outputs": [],
   "execution_count": 11
  },
  {
   "metadata": {
    "ExecuteTime": {
     "end_time": "2025-04-17T17:33:52.490475Z",
     "start_time": "2025-04-17T17:32:10.062897Z"
    }
   },
   "cell_type": "code",
   "source": "trainset, testset = train_test_split(data, test_size=0.2)",
   "id": "a097db16ecc93918",
   "outputs": [],
   "execution_count": 12
  },
  {
   "metadata": {
    "ExecuteTime": {
     "end_time": "2025-04-14T23:10:54.313117Z",
     "start_time": "2025-04-14T23:04:27.417069Z"
    }
   },
   "cell_type": "code",
   "source": [
    "# Use SVD or SVD++\n",
    "model = SVD()  # or SVDpp()\n",
    "model.fit(trainset)"
   ],
   "id": "a7db5803d3505688",
   "outputs": [
    {
     "data": {
      "text/plain": [
       "<surprise.prediction_algorithms.matrix_factorization.SVD at 0x1d75a0ff2b0>"
      ]
     },
     "execution_count": 8,
     "metadata": {},
     "output_type": "execute_result"
    }
   ],
   "execution_count": 8
  },
  {
   "metadata": {
    "ExecuteTime": {
     "end_time": "2025-04-17T17:33:52.597656Z",
     "start_time": "2025-04-17T17:33:52.554747Z"
    }
   },
   "cell_type": "code",
   "source": [
    "# Evaluate\n",
    "predictions = model.test(testset)"
   ],
   "id": "c6fd06d49ab38a0f",
   "outputs": [
    {
     "ename": "NameError",
     "evalue": "name 'model' is not defined",
     "output_type": "error",
     "traceback": [
      "\u001B[1;31m---------------------------------------------------------------------------\u001B[0m",
      "\u001B[1;31mNameError\u001B[0m                                 Traceback (most recent call last)",
      "Cell \u001B[1;32mIn[13], line 2\u001B[0m\n\u001B[0;32m      1\u001B[0m \u001B[38;5;66;03m# Evaluate\u001B[39;00m\n\u001B[1;32m----> 2\u001B[0m predictions \u001B[38;5;241m=\u001B[39m \u001B[43mmodel\u001B[49m\u001B[38;5;241m.\u001B[39mtest(testset)\n",
      "\u001B[1;31mNameError\u001B[0m: name 'model' is not defined"
     ]
    }
   ],
   "execution_count": 13
  },
  {
   "metadata": {
    "ExecuteTime": {
     "end_time": "2025-04-14T23:12:24.199358Z",
     "start_time": "2025-04-14T23:12:21.076085Z"
    }
   },
   "cell_type": "code",
   "source": [
    "from surprise import accuracy\n",
    "\n",
    "print(\"RMSE:\", accuracy.rmse(predictions))"
   ],
   "id": "6ca57024aea59b96",
   "outputs": [
    {
     "name": "stdout",
     "output_type": "stream",
     "text": [
      "RMSE: 0.7859\n",
      "RMSE: 0.785879139334552\n"
     ]
    }
   ],
   "execution_count": 10
  },
  {
   "metadata": {
    "ExecuteTime": {
     "end_time": "2025-04-14T23:12:58.318059Z",
     "start_time": "2025-04-14T23:12:24.212935Z"
    }
   },
   "cell_type": "code",
   "source": [
    "from surprise import dump\n",
    "\n",
    "# Save the model to a file\n",
    "dump.dump('svd_model.pkl', algo=model)"
   ],
   "id": "a482e8b4efcffef6",
   "outputs": [],
   "execution_count": 11
  },
  {
   "metadata": {
    "ExecuteTime": {
     "end_time": "2025-04-15T21:16:28.313043Z",
     "start_time": "2025-04-15T07:40:54.560151Z"
    }
   },
   "cell_type": "code",
   "source": [
    "from surprise import SVD\n",
    "from surprise.model_selection import GridSearchCV\n",
    "\n",
    "# Define the parameter grid\n",
    "param_grid = {\n",
    "    'n_factors': [50, 100, 150],\n",
    "    'n_epochs': [20, 30],\n",
    "    'lr_all': [0.002, 0.005, 0.01],\n",
    "    'reg_all': [0.02, 0.1]\n",
    "}\n",
    "\n",
    "# Run grid search\n",
    "gs = GridSearchCV(SVD, param_grid, measures=['rmse'], cv=3, n_jobs=6, joblib_verbose=2)\n",
    "gs.fit(data)\n",
    "\n",
    "# Output best RMSE and best hyperparameters\n",
    "print(\"Best RMSE:\", gs.best_score['rmse'])\n",
    "print(\"Best params:\", gs.best_params['rmse'])\n",
    "\n",
    "# Use the best model\n",
    "best_model = gs.best_estimator['rmse']\n",
    "trainset = data.build_full_trainset()\n",
    "best_model.fit(trainset)"
   ],
   "id": "ff3af9a426bfdf7f",
   "outputs": [
    {
     "name": "stderr",
     "output_type": "stream",
     "text": [
      "[Parallel(n_jobs=6)]: Using backend LokyBackend with 6 concurrent workers.\n",
      "C:\\ProgramData\\anaconda3\\envs\\bigdata\\lib\\site-packages\\joblib\\externals\\loky\\process_executor.py:752: UserWarning: A worker stopped while some jobs were given to the executor. This can be caused by a too short worker timeout or by a memory leak.\n",
      "  warnings.warn(\n",
      "[Parallel(n_jobs=6)]: Done  29 tasks      | elapsed: 227.7min\n",
      "[Parallel(n_jobs=6)]: Done 108 out of 108 | elapsed: 801.4min finished\n"
     ]
    },
    {
     "name": "stdout",
     "output_type": "stream",
     "text": [
      "Best RMSE: 0.7911706351666332\n",
      "Best params: {'n_factors': 50, 'n_epochs': 30, 'lr_all': 0.005, 'reg_all': 0.02}\n"
     ]
    },
    {
     "data": {
      "text/plain": [
       "<surprise.prediction_algorithms.matrix_factorization.SVD at 0x260575d4d60>"
      ]
     },
     "execution_count": 6,
     "metadata": {},
     "output_type": "execute_result"
    }
   ],
   "execution_count": 6
  },
  {
   "metadata": {
    "ExecuteTime": {
     "end_time": "2025-04-16T10:08:01.929956Z",
     "start_time": "2025-04-16T10:08:01.901152Z"
    }
   },
   "cell_type": "code",
   "source": [
    "import json\n",
    "\n",
    "# Save best parameters to a JSON file\n",
    "with open(\"best_svd_params.json\", \"w\") as f:\n",
    "    json.dump(gs.best_params['rmse'], f, indent=4)"
   ],
   "id": "eb897bfec4c80c6e",
   "outputs": [],
   "execution_count": 9
  },
  {
   "metadata": {
    "ExecuteTime": {
     "end_time": "2025-04-15T21:27:31.341085Z",
     "start_time": "2025-04-15T21:16:28.463277Z"
    }
   },
   "cell_type": "code",
   "source": [
    "trainset, testset = train_test_split(data, test_size=0.2)\n",
    "best_model.fit(trainset)\n",
    "predictions = best_model.test(testset)\n",
    "\n",
    "from surprise import accuracy\n",
    "print(\"Final RMSE on Test:\", accuracy.rmse(predictions))"
   ],
   "id": "7609a21c833afcff",
   "outputs": [
    {
     "name": "stdout",
     "output_type": "stream",
     "text": [
      "RMSE: 0.7823\n",
      "Final RMSE on Test: 0.7822703370699458\n"
     ]
    }
   ],
   "execution_count": 7
  },
  {
   "metadata": {
    "ExecuteTime": {
     "end_time": "2025-04-16T10:08:01.731616Z",
     "start_time": "2025-04-16T10:06:09.385508Z"
    }
   },
   "cell_type": "code",
   "source": [
    "import pickle\n",
    "\n",
    "# Save model to file\n",
    "with open(\"svd_best_model.pkl\", \"wb\") as f:\n",
    "    pickle.dump(best_model, f)"
   ],
   "id": "59cb53196db37a3f",
   "outputs": [],
   "execution_count": 8
  },
  {
   "metadata": {
    "ExecuteTime": {
     "end_time": "2025-04-16T10:12:07.085849Z",
     "start_time": "2025-04-16T10:11:17.081853Z"
    }
   },
   "cell_type": "code",
   "source": [
    "reader = Reader(rating_scale=(0.5, 5.0))\n",
    "data = Dataset.load_from_df(ratings_df[[\"userId\", \"movieId\", \"rating\"]], reader)"
   ],
   "id": "4faae937baa5d1a1",
   "outputs": [],
   "execution_count": 10
  },
  {
   "metadata": {
    "ExecuteTime": {
     "end_time": "2025-04-16T10:13:23.397435Z",
     "start_time": "2025-04-16T10:12:07.108680Z"
    }
   },
   "cell_type": "code",
   "source": "trainset, testset = train_test_split(data, test_size=0.2, random_state=42)",
   "id": "63ede4172f14f6d",
   "outputs": [],
   "execution_count": 11
  },
  {
   "metadata": {
    "ExecuteTime": {
     "end_time": "2025-04-16T10:19:45.386144Z",
     "start_time": "2025-04-16T10:19:28.193627Z"
    }
   },
   "cell_type": "code",
   "source": [
    "from surprise import dump\n",
    "_, loaded_model = dump.load('svd_model.pkl')"
   ],
   "id": "1364901dd5cca214",
   "outputs": [],
   "execution_count": 15
  },
  {
   "metadata": {
    "ExecuteTime": {
     "end_time": "2025-04-16T10:29:39.137014Z",
     "start_time": "2025-04-16T10:19:45.402672Z"
    }
   },
   "cell_type": "code",
   "source": [
    "# You don't need to re-fit the model; it's already trained\n",
    "predictions = loaded_model.test(testset)\n",
    "\n",
    "# Calculate and print RMSE\n",
    "print(\"RMSE on test set:\", accuracy.rmse(predictions))"
   ],
   "id": "1a1df5b59dbf7533",
   "outputs": [
    {
     "name": "stdout",
     "output_type": "stream",
     "text": [
      "RMSE: 0.6999\n",
      "RMSE on test set: 0.6999447550324025\n"
     ]
    }
   ],
   "execution_count": 16
  },
  {
   "metadata": {
    "ExecuteTime": {
     "end_time": "2025-04-17T17:35:44.371598Z",
     "start_time": "2025-04-17T17:34:53.600554Z"
    }
   },
   "cell_type": "code",
   "source": [
    "import pickle\n",
    "with open(\"svd_best_model.pkl\", \"rb\") as f:\n",
    "    loaded_model = pickle.load(f)"
   ],
   "id": "f1a0eb00ca050da0",
   "outputs": [],
   "execution_count": 15
  },
  {
   "metadata": {},
   "cell_type": "code",
   "source": [
    "# You don't need to re-fit the model; it's already trained\n",
    "predictions = loaded_model.test(testset)\n",
    "\n",
    "# Calculate and print RMSE\n",
    "print(\"RMSE on test set:\", accuracy.rmse(predictions))"
   ],
   "id": "7ea9341d159fd576",
   "outputs": [],
   "execution_count": null
  },
  {
   "metadata": {},
   "cell_type": "code",
   "source": [
    "with open(\"svd_best_model.pkl\", \"rb\") as f:\n",
    "    loaded_model = pickle.load(f)"
   ],
   "id": "e272c0a6ad25d1ce",
   "outputs": [],
   "execution_count": null
  },
  {
   "metadata": {
    "ExecuteTime": {
     "end_time": "2025-04-16T11:24:28.384747Z",
     "start_time": "2025-04-16T11:24:27.882920Z"
    }
   },
   "cell_type": "code",
   "source": "all_movie_ids = ratings_df['movieId'].unique()",
   "id": "c22e61d81962f407",
   "outputs": [],
   "execution_count": 21
  },
  {
   "metadata": {
    "ExecuteTime": {
     "end_time": "2025-04-16T11:24:28.461265Z",
     "start_time": "2025-04-16T11:24:28.392872Z"
    }
   },
   "cell_type": "code",
   "source": [
    "user_id = 1\n",
    "user_rated = ratings_df[ratings_df['userId'] == user_id]['movieId'].values"
   ],
   "id": "81dc664e171befb9",
   "outputs": [],
   "execution_count": 22
  },
  {
   "metadata": {
    "ExecuteTime": {
     "end_time": "2025-04-16T11:24:51.634461Z",
     "start_time": "2025-04-16T11:24:35.937429Z"
    }
   },
   "cell_type": "code",
   "source": [
    "movies_to_predict = [movie_id for movie_id in all_movie_ids if movie_id not in user_rated]\n",
    "\n",
    "# Predict ratings for all unseen movies\n",
    "predictions = [\n",
    "    (movie_id, loaded_model.predict(user_id, movie_id).est)\n",
    "    for movie_id in movies_to_predict\n",
    "]\n",
    "\n",
    "# Sort by predicted rating and take top 10\n",
    "top_n = sorted(predictions, key=lambda x: x[1], reverse=True)[:10]\n",
    "\n",
    "# Print or return the top 10 movie IDs and scores\n",
    "print(\"Top 10 Recommendations for User 1:\")\n",
    "for movie_id, predicted_rating in top_n:\n",
    "    print(f\"Movie ID: {movie_id}, Predicted Rating: {predicted_rating:.2f}\")"
   ],
   "id": "8017a217d1f47c00",
   "outputs": [
    {
     "name": "stdout",
     "output_type": "stream",
     "text": [
      "Top 10 Recommendations for User 1:\n",
      "Movie ID: 1721, Predicted Rating: 5.00\n",
      "Movie ID: 72641, Predicted Rating: 4.85\n",
      "Movie ID: 182723, Predicted Rating: 4.85\n",
      "Movie ID: 1917, Predicted Rating: 4.85\n",
      "Movie ID: 217655, Predicted Rating: 4.83\n",
      "Movie ID: 73881, Predicted Rating: 4.80\n",
      "Movie ID: 165421, Predicted Rating: 4.78\n",
      "Movie ID: 3916, Predicted Rating: 4.75\n",
      "Movie ID: 215541, Predicted Rating: 4.74\n",
      "Movie ID: 72998, Predicted Rating: 4.74\n"
     ]
    }
   ],
   "execution_count": 23
  },
  {
   "metadata": {
    "ExecuteTime": {
     "end_time": "2025-04-16T11:43:48.791459Z",
     "start_time": "2025-04-16T11:43:48.329241Z"
    }
   },
   "cell_type": "code",
   "source": "user_ids = ratings_df['userId'].unique()  # Get unique user IDs",
   "id": "61bed05cd58246e7",
   "outputs": [],
   "execution_count": 24
  },
  {
   "metadata": {
    "ExecuteTime": {
     "end_time": "2025-04-16T11:44:36.512457Z",
     "start_time": "2025-04-16T11:44:36.499703Z"
    }
   },
   "cell_type": "code",
   "source": "recommendations = []",
   "id": "69ffee43bff9c052",
   "outputs": [],
   "execution_count": 25
  },
  {
   "metadata": {
    "ExecuteTime": {
     "end_time": "2025-04-16T11:44:49.299930Z",
     "start_time": "2025-04-16T11:44:49.283522Z"
    }
   },
   "cell_type": "code",
   "source": "import pandas as pd",
   "id": "ec7d8f5a2e32ccad",
   "outputs": [],
   "execution_count": 26
  },
  {
   "metadata": {},
   "cell_type": "code",
   "source": [
    "for user_id in user_ids:\n",
    "    # Get all movie IDs (you can replace this with a list of movie IDs from your dataset)\n",
    "    all_movie_ids = ratings_df['movieId'].unique()\n",
    "\n",
    "    # Generate predictions for all movies for the current user\n",
    "    predictions = [loaded_model.predict(user_id, movie_id) for movie_id in all_movie_ids]\n",
    "\n",
    "    # Sort the predictions by predicted rating in descending order\n",
    "    predictions_sorted = sorted(predictions, key=lambda x: x.est, reverse=True)\n",
    "\n",
    "    # Select the top 100 predictions\n",
    "    top_100_predictions = predictions_sorted[:100]\n",
    "\n",
    "    # Store the recommendations in the DataFrame\n",
    "    for rank, prediction in enumerate(top_100_predictions, 1):\n",
    "        recommendations.append({\n",
    "            'userId': user_id,\n",
    "            'movieId': prediction.iid,\n",
    "            'predictedRating': prediction.est,\n",
    "            'rank': rank\n",
    "        })\n",
    "\n",
    "# Convert the recommendations list to a Pandas DataFrame\n",
    "recommendations_df = pd.DataFrame(recommendations)\n",
    "\n",
    "# Optional: Save to a CSV file (for review before pushing to BigQuery)\n",
    "recommendations_df.to_csv('top_100_recommendations.csv', index=False)"
   ],
   "id": "2d629e06e9a1be29",
   "outputs": [],
   "execution_count": null
  },
  {
   "metadata": {
    "ExecuteTime": {
     "end_time": "2025-04-17T11:04:05.079825Z",
     "start_time": "2025-04-17T11:04:04.061612Z"
    }
   },
   "cell_type": "code",
   "source": [
    "all_movie_ids = ratings_df['movieId'].unique().tolist()\n",
    "user_ids = ratings_df['userId'].unique().tolist()"
   ],
   "id": "31dae1f69dc8af18",
   "outputs": [],
   "execution_count": 5
  },
  {
   "metadata": {
    "ExecuteTime": {
     "end_time": "2025-04-17T11:04:27.400730Z",
     "start_time": "2025-04-17T11:04:27.390909Z"
    }
   },
   "cell_type": "code",
   "source": [
    "def load_model():\n",
    "    with open(\"svd_best_model.pkl\", \"rb\") as f:\n",
    "        return pickle.load(f)"
   ],
   "id": "6f2566f62cee9bcf",
   "outputs": [],
   "execution_count": 6
  },
  {
   "metadata": {
    "ExecuteTime": {
     "end_time": "2025-04-17T11:04:39.858279Z",
     "start_time": "2025-04-17T11:04:39.837579Z"
    }
   },
   "cell_type": "code",
   "source": [
    "def get_top_100_recommendations(user_id, movie_ids):\n",
    "    model = load_model()  # Load model inside the process\n",
    "    predictions = model.test([(user_id, movie_id, 0) for movie_id in movie_ids])\n",
    "    top_100 = sorted(predictions, key=lambda x: x.est, reverse=True)[:100]\n",
    "    return [\n",
    "        {\n",
    "            'userId': user_id,\n",
    "            'movieId': pred.iid,\n",
    "            'predictedRating': pred.est,\n",
    "            'rank': rank\n",
    "        }\n",
    "        for rank, pred in enumerate(top_100, 1)\n",
    "    ]\n",
    "\n",
    "recommendations = []"
   ],
   "id": "13ed54aa8b24170",
   "outputs": [],
   "execution_count": 7
  },
  {
   "metadata": {
    "ExecuteTime": {
     "end_time": "2025-04-17T11:05:20.654189Z",
     "start_time": "2025-04-17T11:05:20.649212Z"
    }
   },
   "cell_type": "code",
   "source": "from concurrent.futures import ProcessPoolExecutor, as_completed",
   "id": "40a3faf4dc6a3791",
   "outputs": [],
   "execution_count": 8
  },
  {
   "metadata": {
    "jupyter": {
     "is_executing": true
    },
    "ExecuteTime": {
     "start_time": "2025-04-17T11:05:23.040909Z"
    }
   },
   "cell_type": "code",
   "source": [
    "with ProcessPoolExecutor() as executor:\n",
    "    futures = [executor.submit(get_top_100_recommendations, user_id, all_movie_ids) for user_id in user_ids]\n",
    "    for future in as_completed(futures):\n",
    "        recommendations.extend(future.result())\n",
    "\n",
    "# Save to CSV\n",
    "recommendations_df = pd.DataFrame(recommendations)\n",
    "recommendations_df.to_csv('top_100_recommendations.csv', index=False)"
   ],
   "id": "d47387a85b734a15",
   "outputs": [],
   "execution_count": null
  },
  {
   "metadata": {
    "ExecuteTime": {
     "end_time": "2025-04-17T17:39:33.767872Z",
     "start_time": "2025-04-17T17:39:33.747177Z"
    }
   },
   "cell_type": "code",
   "source": [
    "from collections import defaultdict\n",
    "\n",
    "def get_top_k(predictions, k=10):\n",
    "    top_k = defaultdict(list)\n",
    "    for uid, iid, true_r, est, _ in predictions:\n",
    "        top_k[uid].append((iid, est))\n",
    "\n",
    "    # Sort by estimated rating\n",
    "    for uid, user_ratings in top_k.items():\n",
    "        user_ratings.sort(key=lambda x: x[1], reverse=True)\n",
    "        top_k[uid] = user_ratings[:k]\n",
    "\n",
    "    return top_k"
   ],
   "id": "f9f3a0589049971c",
   "outputs": [],
   "execution_count": 17
  },
  {
   "metadata": {
    "ExecuteTime": {
     "end_time": "2025-04-17T18:42:57.867983Z",
     "start_time": "2025-04-17T18:42:57.847707Z"
    }
   },
   "cell_type": "code",
   "source": [
    "from collections import defaultdict\n",
    "\n",
    "def precision_recall_at_k(predictions, k=10, threshold=3.5):\n",
    "    # Map the predictions to each user\n",
    "    user_est_true = defaultdict(list)\n",
    "    for uid, iid, true_r, est, _ in predictions:\n",
    "        user_est_true[uid].append((est, true_r))\n",
    "\n",
    "    precisions = dict()\n",
    "    recalls = dict()\n",
    "\n",
    "    for uid, user_ratings in user_est_true.items():\n",
    "        # Sort by estimated rating\n",
    "        user_ratings.sort(key=lambda x: x[0], reverse=True)\n",
    "        top_k = user_ratings[:k]\n",
    "\n",
    "        # Number of relevant items in top-k\n",
    "        relevant_recommended = sum((true_r >= threshold) for (_, true_r) in top_k)\n",
    "        # Total number of relevant items for this user\n",
    "        total_relevant = sum((true_r >= threshold) for (_, true_r) in user_ratings)\n",
    "\n",
    "        if total_relevant > 0:\n",
    "            precisions[uid] = relevant_recommended / k\n",
    "            recalls[uid] = relevant_recommended / total_relevant\n",
    "        else:\n",
    "            # Skip this user in the average\n",
    "            continue\n",
    "\n",
    "    # Average across users who had at least one relevant item\n",
    "    avg_precision = sum(precisions.values()) / len(precisions) if precisions else 0\n",
    "    avg_recall = sum(recalls.values()) / len(recalls) if recalls else 0\n",
    "\n",
    "    return avg_precision, avg_recall"
   ],
   "id": "22025c3ddee9d8c1",
   "outputs": [],
   "execution_count": 23
  },
  {
   "metadata": {},
   "cell_type": "code",
   "source": "prec, rec = precision_recall_at_k(predictions, k=10)",
   "id": "f74d5e7024a59b5d",
   "outputs": [],
   "execution_count": null
  },
  {
   "metadata": {
    "ExecuteTime": {
     "end_time": "2025-04-18T11:09:49.609627Z",
     "start_time": "2025-04-18T11:09:49.603558Z"
    }
   },
   "cell_type": "code",
   "source": [
    "print(f\"Precision@10: {prec:.4f}\")\n",
    "print(f\"Recall@10: {rec:.4f}\")"
   ],
   "id": "b697c4eb33eb1246",
   "outputs": [
    {
     "name": "stdout",
     "output_type": "stream",
     "text": [
      "Precision@10: 0.5603\n",
      "Recall@10: 0.7906\n"
     ]
    }
   ],
   "execution_count": 30
  }
 ],
 "metadata": {
  "kernelspec": {
   "display_name": "Python 3",
   "language": "python",
   "name": "python3"
  },
  "language_info": {
   "codemirror_mode": {
    "name": "ipython",
    "version": 2
   },
   "file_extension": ".py",
   "mimetype": "text/x-python",
   "name": "python",
   "nbconvert_exporter": "python",
   "pygments_lexer": "ipython2",
   "version": "2.7.6"
  }
 },
 "nbformat": 4,
 "nbformat_minor": 5
}
