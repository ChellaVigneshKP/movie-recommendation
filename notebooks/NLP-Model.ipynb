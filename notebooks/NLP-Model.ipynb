{
 "cells": [
  {
   "cell_type": "code",
   "id": "initial_id",
   "metadata": {
    "collapsed": true,
    "ExecuteTime": {
     "end_time": "2025-04-18T15:47:56.166869Z",
     "start_time": "2025-04-18T15:47:50.864481Z"
    }
   },
   "source": [
    "import pandas as pd\n",
    "import ast\n",
    "import os\n",
    "from google.cloud import bigquery\n",
    "from sentence_transformers import SentenceTransformer\n",
    "from sklearn.metrics.pairwise import cosine_similarity\n",
    "import torch"
   ],
   "outputs": [],
   "execution_count": 7
  },
  {
   "metadata": {
    "ExecuteTime": {
     "end_time": "2025-04-18T15:48:19.491130Z",
     "start_time": "2025-04-18T15:48:18.063815Z"
    }
   },
   "cell_type": "code",
   "source": "client = bigquery.Client(project=\"virtualization-and-cloud\")",
   "id": "81e45bf8a0721077",
   "outputs": [],
   "execution_count": 8
  },
  {
   "metadata": {
    "ExecuteTime": {
     "end_time": "2025-04-18T15:49:15.573004Z",
     "start_time": "2025-04-18T15:49:04.394875Z"
    }
   },
   "cell_type": "code",
   "source": [
    "query = \"\"\"\n",
    "SELECT * FROM `virtualization-and-cloud.movies.movies-metadata` WHERE overview IS NOT NULL AND title IS NOT NULL\n",
    "\"\"\"\n",
    "\n",
    "df = client.query(query).to_dataframe()"
   ],
   "id": "a4b1e443d3d330c0",
   "outputs": [],
   "execution_count": 9
  },
  {
   "metadata": {
    "ExecuteTime": {
     "end_time": "2025-04-18T15:49:29.841093Z",
     "start_time": "2025-04-18T15:49:29.835067Z"
    }
   },
   "cell_type": "code",
   "source": "device = 'cuda' if torch.cuda.is_available() else 'cpu'",
   "id": "e9a612ebaea91c50",
   "outputs": [],
   "execution_count": 10
  },
  {
   "metadata": {
    "ExecuteTime": {
     "end_time": "2025-04-18T15:49:33.084416Z",
     "start_time": "2025-04-18T15:49:33.074335Z"
    }
   },
   "cell_type": "code",
   "source": "print(device)",
   "id": "61b808cef432499d",
   "outputs": [
    {
     "name": "stdout",
     "output_type": "stream",
     "text": [
      "cpu\n"
     ]
    }
   ],
   "execution_count": 11
  },
  {
   "metadata": {
    "ExecuteTime": {
     "end_time": "2025-04-18T15:51:17.856314Z",
     "start_time": "2025-04-18T15:51:12.873169Z"
    }
   },
   "cell_type": "code",
   "source": [
    "def extract_genre_names(genre_list_str):\n",
    "    try:\n",
    "        genre_list = ast.literal_eval(genre_list_str) if isinstance(genre_list_str, str) else genre_list_str\n",
    "        return ' '.join(genre['name'] for genre in genre_list)\n",
    "    except (ValueError, SyntaxError, TypeError):\n",
    "        return ''\n",
    "\n",
    "# Apply to DataFrame\n",
    "df['genre_text'] = df['genres'].apply(extract_genre_names)\n",
    "\n",
    "# Create final text for embedding\n",
    "df['text'] = (\n",
    "    df['overview'].fillna('') + ' ' +\n",
    "    df['tagline'].fillna('') + ' ' +\n",
    "    df['genre_text'].fillna('')\n",
    ")\n",
    "\n",
    "# Load model\n",
    "model = SentenceTransformer('all-MiniLM-L6-v2', device=device)"
   ],
   "id": "62b939dd6b7527aa",
   "outputs": [],
   "execution_count": 13
  },
  {
   "metadata": {
    "ExecuteTime": {
     "end_time": "2025-04-18T16:24:15.480741Z",
     "start_time": "2025-04-18T15:51:47.170220Z"
    }
   },
   "cell_type": "code",
   "source": [
    "# ✅ Generate embeddings\n",
    "print(\"Encoding texts...\")\n",
    "df['embedding'] = df['text'].apply(lambda x: model.encode(x, device=device))"
   ],
   "id": "a123424fd647eca1",
   "outputs": [
    {
     "name": "stdout",
     "output_type": "stream",
     "text": [
      "Encoding texts...\n"
     ]
    }
   ],
   "execution_count": 14
  },
  {
   "metadata": {
    "ExecuteTime": {
     "end_time": "2025-04-18T16:27:23.038858Z",
     "start_time": "2025-04-18T16:24:15.620697Z"
    }
   },
   "cell_type": "code",
   "source": [
    "# ✅ Build cosine similarity matrix\n",
    "print(\"Building similarity matrix...\")\n",
    "embeddings = list(df['embedding'])\n",
    "similarity_matrix = cosine_similarity(embeddings)"
   ],
   "id": "28e70fb506c8952d",
   "outputs": [
    {
     "name": "stdout",
     "output_type": "stream",
     "text": [
      "Building similarity matrix...\n"
     ]
    }
   ],
   "execution_count": 15
  },
  {
   "metadata": {
    "ExecuteTime": {
     "end_time": "2025-04-18T16:27:24.070009Z",
     "start_time": "2025-04-18T16:27:23.630009Z"
    }
   },
   "cell_type": "code",
   "source": [
    "# ✅ Create a recommendation function\n",
    "def recommend_movies(title, top_k=5):\n",
    "    try:\n",
    "        idx = df[df['title'].str.lower() == title.lower()].index[0]\n",
    "    except IndexError:\n",
    "        return f\"Movie '{title}' not found.\"\n",
    "\n",
    "    scores = list(enumerate(similarity_matrix[idx]))\n",
    "    sorted_scores = sorted(scores, key=lambda x: x[1], reverse=True)[1:top_k+1]\n",
    "\n",
    "    recommendations = df.iloc[[i[0] for i in sorted_scores]][['title', 'overview', 'genre_text']]\n",
    "    return recommendations\n",
    "\n",
    "# ✅ Try it out!\n",
    "print(recommend_movies(\"Ariel\", top_k=3))"
   ],
   "id": "e9c4c864993afb99",
   "outputs": [
    {
     "name": "stdout",
     "output_type": "stream",
     "text": [
      "                           title  \\\n",
      "22397               Land of Love   \n",
      "18292            Boy Upside Down   \n",
      "45850  I Hired a Contract Killer   \n",
      "\n",
      "                                                overview  \\\n",
      "22397  A comedy of a Finnish man who falls in love, g...   \n",
      "18292  A Finnish dramedy about an 11-year-old boy dea...   \n",
      "45850  After losing his job and realizing that he is ...   \n",
      "\n",
      "                       genre_text  \n",
      "22397              Comedy Romance  \n",
      "18292                Drama Comedy  \n",
      "45850  Comedy Crime Drama Romance  \n"
     ]
    }
   ],
   "execution_count": 16
  },
  {
   "metadata": {
    "ExecuteTime": {
     "end_time": "2025-04-18T17:04:19.819680Z",
     "start_time": "2025-04-18T17:04:19.700919Z"
    }
   },
   "cell_type": "code",
   "source": "print(recommend_movies(\"Toy Story\", top_k=5))",
   "id": "d7d54573d0f0d61",
   "outputs": [
    {
     "name": "stdout",
     "output_type": "stream",
     "text": [
      "                                                   title  \\\n",
      "75034                                        Toy Story 2   \n",
      "75633                                        Toy Story 3   \n",
      "56971  Buzz Lightyear of Star Command: The Adventure ...   \n",
      "82451                                        Toy Story 4   \n",
      "17642                                      A Goofy Movie   \n",
      "\n",
      "                                                overview  \\\n",
      "75034  Andy heads off to Cowboy Camp, leaving his toy...   \n",
      "75633  Woody, Buzz, and the rest of Andy's toys haven...   \n",
      "56971  Buzz Lightyear must battle Emperor Zurg with t...   \n",
      "82451  Woody has always been confident about his plac...   \n",
      "17642  An endearing modern-day story about how the lo...   \n",
      "\n",
      "                                              genre_text  \n",
      "75034                            Animation Comedy Family  \n",
      "75633                            Animation Family Comedy  \n",
      "56971  Animation Family Comedy Science Fiction Adventure  \n",
      "82451          Family Adventure Animation Comedy Fantasy  \n",
      "17642          Romance Animation Family Comedy Adventure  \n"
     ]
    }
   ],
   "execution_count": 18
  },
  {
   "metadata": {
    "ExecuteTime": {
     "end_time": "2025-04-18T17:07:59.742177Z",
     "start_time": "2025-04-18T17:07:56.814762Z"
    }
   },
   "cell_type": "code",
   "source": "df.to_pickle(\"movies_nlp_df.pkl\")",
   "id": "dc318222ba41bb25",
   "outputs": [],
   "execution_count": 19
  },
  {
   "metadata": {
    "ExecuteTime": {
     "end_time": "2025-04-18T17:08:22.651926Z",
     "start_time": "2025-04-18T17:08:22.344647Z"
    }
   },
   "cell_type": "code",
   "source": [
    "import numpy as np\n",
    "embeddings = np.vstack(df['embedding'].values)\n",
    "np.save(\"embeddings.npy\", embeddings)"
   ],
   "id": "ba3806ed9b17d1c1",
   "outputs": [],
   "execution_count": 20
  },
  {
   "metadata": {
    "ExecuteTime": {
     "end_time": "2025-04-18T17:14:38.113743Z",
     "start_time": "2025-04-18T17:08:53.433975Z"
    }
   },
   "cell_type": "code",
   "source": "np.save(\"nlp_similarity_matrix.npy\", similarity_matrix)",
   "id": "cc12cc5e7da1272a",
   "outputs": [],
   "execution_count": 21
  },
  {
   "metadata": {
    "ExecuteTime": {
     "end_time": "2025-04-18T17:14:50.828469Z",
     "start_time": "2025-04-18T17:14:43.954661Z"
    }
   },
   "cell_type": "code",
   "source": "!pip install faiss-cpu",
   "id": "20260fdce665d88f",
   "outputs": [
    {
     "name": "stdout",
     "output_type": "stream",
     "text": [
      "Defaulting to user installation because normal site-packages is not writeable\n",
      "Collecting faiss-cpu\n",
      "  Downloading faiss_cpu-1.10.0-cp310-cp310-win_amd64.whl.metadata (4.5 kB)\n",
      "Requirement already satisfied: numpy<3.0,>=1.25.0 in c:\\programdata\\anaconda3\\envs\\bigdata\\lib\\site-packages (from faiss-cpu) (1.26.4)\n",
      "Requirement already satisfied: packaging in c:\\programdata\\anaconda3\\envs\\bigdata\\lib\\site-packages (from faiss-cpu) (24.2)\n",
      "Downloading faiss_cpu-1.10.0-cp310-cp310-win_amd64.whl (13.7 MB)\n",
      "   ---------------------------------------- 0.0/13.7 MB ? eta -:--:--\n",
      "   -- ------------------------------------- 0.8/13.7 MB 11.4 MB/s eta 0:00:02\n",
      "   ------- -------------------------------- 2.6/13.7 MB 8.9 MB/s eta 0:00:02\n",
      "   ------------ --------------------------- 4.2/13.7 MB 8.7 MB/s eta 0:00:02\n",
      "   --------------- ------------------------ 5.2/13.7 MB 8.0 MB/s eta 0:00:02\n",
      "   ---------------------- ----------------- 7.6/13.7 MB 7.8 MB/s eta 0:00:01\n",
      "   --------------------------- ------------ 9.4/13.7 MB 7.9 MB/s eta 0:00:01\n",
      "   -------------------------------- ------- 11.3/13.7 MB 8.0 MB/s eta 0:00:01\n",
      "   ------------------------------------- -- 12.8/13.7 MB 8.1 MB/s eta 0:00:01\n",
      "   ---------------------------------------- 13.7/13.7 MB 8.0 MB/s eta 0:00:00\n",
      "Installing collected packages: faiss-cpu\n",
      "Successfully installed faiss-cpu-1.10.0\n"
     ]
    }
   ],
   "execution_count": 22
  },
  {
   "metadata": {
    "ExecuteTime": {
     "end_time": "2025-04-18T17:15:05.343450Z",
     "start_time": "2025-04-18T17:15:00.752549Z"
    }
   },
   "cell_type": "code",
   "source": [
    "import faiss\n",
    "\n",
    "index = faiss.IndexFlatIP(embeddings.shape[1])\n",
    "index.add(embeddings)\n",
    "faiss.write_index(index, \"faiss.index\")"
   ],
   "id": "5339d313924572cc",
   "outputs": [],
   "execution_count": 23
  }
 ],
 "metadata": {
  "kernelspec": {
   "display_name": "Python (bigdata)",
   "language": "python",
   "name": "bigdata"
  },
  "language_info": {
   "codemirror_mode": {
    "name": "ipython",
    "version": 2
   },
   "file_extension": ".py",
   "mimetype": "text/x-python",
   "name": "python",
   "nbconvert_exporter": "python",
   "pygments_lexer": "ipython2",
   "version": "2.7.6"
  }
 },
 "nbformat": 4,
 "nbformat_minor": 5
}
